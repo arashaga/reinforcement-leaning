{
 "cells": [
  {
   "cell_type": "code",
   "execution_count": 1,
   "id": "bb15e333",
   "metadata": {},
   "outputs": [
    {
     "name": "stdout",
     "output_type": "stream",
     "text": [
      "Requirement already satisfied: future in c:\\programdata\\anaconda3\\lib\\site-packages (0.18.2)\n"
     ]
    }
   ],
   "source": [
    "#this is epsilon greedy algo"
   ]
  },
  {
   "cell_type": "code",
   "execution_count": 2,
   "id": "8503fe26",
   "metadata": {},
   "outputs": [],
   "source": [
    "from __future__ import print_function, division\n",
    "from builtins import range\n",
    "import matplotlib.pyplot as plt\n",
    "import numpy as np"
   ]
  },
  {
   "cell_type": "code",
   "execution_count": 38,
   "id": "a040ae1c",
   "metadata": {},
   "outputs": [],
   "source": [
    "NUM_TRIALS = 10000\n",
    "EPS = 0.1\n",
    "BANDIT_PROBABILITIES = [0.2, 0.5, 0.75]\n",
    "\n",
    "\n",
    "class Bandit:\n",
    "    def __init__(self, p):\n",
    "        # p: the win rate\n",
    "        self.p = p\n",
    "        self.p_estimate = 0.\n",
    "        self.N = 0.\n",
    "\n",
    "    def pull(self):\n",
    "        # draw a 1 with probability p\n",
    "        return np.random.random() < self.p\n",
    "\n",
    "    def update(self, x):\n",
    "        self.N += 1.\n",
    "        self.p_estimate = ((self.N - 1)*self.p_estimate + x) / self.N\n",
    "\n",
    "\n",
    "def experiment():\n",
    "    bandits = [Bandit(p) for p in BANDIT_PROBABILITIES]\n",
    "\n",
    "    rewards = np.zeros(NUM_TRIALS)\n",
    "    num_times_explored = 0\n",
    "    num_times_exploited = 0\n",
    "    num_optimal = 0\n",
    "    optimal_j = np.argmax([b.p for b in bandits])\n",
    "    print(\"optimal j:\", optimal_j)\n",
    "\n",
    "    for i in range(NUM_TRIALS):\n",
    "\n",
    "        # use epsilon-greedy to select the next bandit\n",
    "        if np.random.random() < EPS:\n",
    "        #if np.random.random() < 1/(i+1):\n",
    "            num_times_explored += 1\n",
    "            j = np.random.randint(len(bandits))\n",
    "            #print(\"explored: \", j)\n",
    "        else:\n",
    "            num_times_exploited += 1\n",
    "            j = np.argmax([b.p_estimate for b in bandits])\n",
    "            #print(\"exploited: \", j)\n",
    "\n",
    "        if j == optimal_j:\n",
    "            num_optimal += 1\n",
    "\n",
    "        # pull the arm for the bandit with the largest sample\n",
    "        x = bandits[j].pull()\n",
    "        #print('x: ',x)\n",
    "\n",
    "        # update rewards log\n",
    "        rewards[i] = x\n",
    "\n",
    "        # update the distribution for the bandit whose arm we just pulled\n",
    "        bandits[j].update(x)\n",
    "       \n",
    "        # print mean estimates for each bandit\n",
    "    for b in bandits:\n",
    "        print(\"mean estimate:\", b.p_estimate)\n",
    "\n",
    "    # print total reward\n",
    "    print(\"total reward earned:\", rewards.sum())\n",
    "    print(\"overall win rate:\", rewards.sum() / NUM_TRIALS)\n",
    "    print(\"num_times_explored:\", num_times_explored)\n",
    "    print(\"num_times_exploited:\", num_times_exploited)\n",
    "    print(\"num times selected optimal bandit:\", num_optimal)\n",
    "\n",
    "    # plot the results\n",
    "    cumulative_rewards = np.cumsum(rewards)\n",
    "    win_rates = cumulative_rewards / (np.arange(NUM_TRIALS) + 1)\n",
    "    plt.plot(win_rates)\n",
    "    plt.plot(np.ones(NUM_TRIALS)*np.max(BANDIT_PROBABILITIES))\n",
    "    plt.show()"
   ]
  },
  {
   "cell_type": "code",
   "execution_count": 39,
   "id": "055d902d",
   "metadata": {},
   "outputs": [
    {
     "name": "stdout",
     "output_type": "stream",
     "text": [
      "optimal j: 2\n",
      "mean estimate: 0.1976401179941003\n",
      "mean estimate: 0.5225988700564969\n",
      "mean estimate: 0.7447082840872458\n",
      "total reward earned: 7183.0\n",
      "overall win rate: 0.7183\n",
      "num_times_explored: 981\n",
      "num_times_exploited: 9019\n",
      "num times selected optimal bandit: 9307\n"
     ]
    },
    {
     "data": {
      "image/png": "[encoded data removed]",
      "text/plain": [
       "<Figure size 432x288 with 1 Axes>"
      ]
     },
     "metadata": {
      "needs_background": "light"
     },
     "output_type": "display_data"
    }
   ],
   "source": [
    "experiment()"
   ]
  },
  {
   "cell_type": "code",
   "execution_count": 101,
   "id": "e8f8d0b5",
   "metadata": {},
   "outputs": [],
   "source": [
    "#optimistic Inital values fill in the bank\n",
    "#remeber that this tehcnique you assign a very high value to inital estimate and make the\n",
    "# algo to explore more until the means drop \n",
    "\n",
    "NUM_TRIALS = 10000\n",
    "EPS = 0.1\n",
    "BANDIT_PROBABILITIES = [0.2, 0.5, 0.75]\n",
    "\n",
    "\n",
    "class Bandit:\n",
    "  def __init__(self, p):\n",
    "    # p: the win rate\n",
    "    self.p = p\n",
    "    self.p_estimate = 5. # this is where you set the estiate high\n",
    "    self.N = 1. # if you don't do this the first estiamte you set in the update function will be zero\n",
    "\n",
    "  def pull(self):\n",
    "    # draw a 1 with probability p\n",
    "    return np.random.random() < self.p\n",
    "\n",
    "  def update(self, x):\n",
    "    self.N +=1.\n",
    "    self.p_estimate = ((self.N - 1.0)*self.p_estimate + x) / self.N\n",
    "\n",
    "\n",
    "def experiment():\n",
    "  bandits = [Bandit(p) for p in BANDIT_PROBABILITIES]\n",
    "\n",
    "  rewards = np.zeros(NUM_TRIALS)\n",
    "  for i in range(NUM_TRIALS):\n",
    "    # use optimistic initial values to select the next bandit\n",
    "    # you are looking at the estimates not the true p all of them are initialized to 5 first\n",
    "    j = np.argmax([b.p_estimate for b in bandits])\n",
    "    #print(\"N: \",i, \" j: \",j)\n",
    "    #print(\"bandit j\",bandits[j].p_estimate)\n",
    "\n",
    "    # pull the arm for the bandit with the largest sample\n",
    "    x = bandits[j].pull()\n",
    "    #print(\"x: \",x)\n",
    "\n",
    "    # update rewards log\n",
    "    rewards[i] = x\n",
    "    #print()\n",
    "    # update the distribution for the bandit whose arm we just pulled\n",
    "    bandits[j].update(x)\n",
    "    #print('bandits[j].update(x): ',bandits[j].p_estimate)\n",
    "\n",
    "  # print mean estimates for each bandit\n",
    "  for b in bandits:\n",
    "    print(\"mean estimate:\", b.p_estimate)\n",
    "\n",
    "  # print total reward\n",
    "  print(\"total reward earned:\", rewards.sum())\n",
    "  print(\"overall win rate:\", rewards.sum() / NUM_TRIALS)\n",
    "  print(\"num times selected each bandit:\", [b.N for b in bandits])\n",
    "\n",
    "  # plot the results\n",
    "  cumulative_rewards = np.cumsum(rewards)\n",
    "  win_rates = cumulative_rewards / (np.arange(NUM_TRIALS) + 1)\n",
    "  plt.ylim([0, 1])\n",
    "  plt.plot(win_rates)\n",
    "  plt.plot(np.ones(NUM_TRIALS)*np.max(BANDIT_PROBABILITIES))\n",
    "  plt.show()"
   ]
  },
  {
   "cell_type": "code",
   "execution_count": 102,
   "id": "08838d2d",
   "metadata": {},
   "outputs": [
    {
     "name": "stdout",
     "output_type": "stream",
     "text": [
      "mean estimate: 0.7142857142857143\n",
      "mean estimate: 0.7083333333333334\n",
      "mean estimate: 0.7485960689931818\n",
      "total reward earned: 7472.0\n",
      "overall win rate: 0.7472\n",
      "num times selected each bandit: [7.0, 24.0, 9972.0]\n"
     ]
    },
    {
     "data": {
      "image/png": "[encoded data removed]",
      "text/plain": [
       "<Figure size 432x288 with 1 Axes>"
      ]
     },
     "metadata": {
      "needs_background": "light"
     },
     "output_type": "display_data"
    }
   ],
   "source": [
    "experiment()"
   ]
  },
  {
   "cell_type": "code",
   "execution_count": null,
   "id": "ebb179cb",
   "metadata": {},
   "outputs": [],
   "source": [
    "#UCB1 theory"
   ]
  },
  {
   "cell_type": "code",
   "execution_count": 98,
   "id": "ef85e46c",
   "metadata": {},
   "outputs": [
    {
     "name": "stdout",
     "output_type": "stream",
     "text": [
      "2\n"
     ]
    }
   ],
   "source": [
    "#what is chernoff bound?\n",
    "# it is the p(x>=a) <= e*-at M(t) for example you want to know the probablity of getting a large noise in communication\n",
    "# what is momnet generating function?\n",
    "#E[X]= integral of xpx(x)dx from -inf to inf\n",
    "#what is Markov inequality?\n",
    "#"
   ]
  },
  {
   "cell_type": "code",
   "execution_count": null,
   "id": "3b215f32",
   "metadata": {},
   "outputs": [],
   "source": []
  }
 ],
 "metadata": {
  "kernelspec": {
   "display_name": "Python 3",
   "language": "python",
   "name": "python3"
  },
  "language_info": {
   "codemirror_mode": {
    "name": "ipython",
    "version": 3
   },
   "file_extension": ".py",
   "mimetype": "text/x-python",
   "name": "python",
   "nbconvert_exporter": "python",
   "pygments_lexer": "ipython3",
   "version": "3.8.8"
  }
 },
 "nbformat": 4,
 "nbformat_minor": 5
}
